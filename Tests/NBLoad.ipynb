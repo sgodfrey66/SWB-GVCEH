{
 "cells": [
  {
   "cell_type": "markdown",
   "id": "b70795ee",
   "metadata": {},
   "source": [
    "# Summary\n",
    "\n",
    "## Test the Phase 1/2 Twitter (X) API scraper\n"
   ]
  },
  {
   "cell_type": "markdown",
   "id": "543bda90",
   "metadata": {},
   "source": [
    "## Import libraries"
   ]
  },
  {
   "cell_type": "code",
   "execution_count": 1,
   "id": "eee486b1",
   "metadata": {},
   "outputs": [],
   "source": [
    "import os\n",
    "import pickle\n",
    "\n",
    "import pandas as pd\n",
    "import tweepy\n",
    "import json\n",
    "\n",
    "\n",
    "# These are SWB Phase 1 libraries\n",
    "# import sys\n",
    "# sys.path.insert(0, '../scraper')\n",
    "\n",
    "# import model\n",
    "# import scraper\n"
   ]
  },
  {
   "cell_type": "markdown",
   "id": "b855ced4",
   "metadata": {},
   "source": [
    "## Read X API credentials"
   ]
  },
  {
   "cell_type": "code",
   "execution_count": 2,
   "id": "949009b5",
   "metadata": {},
   "outputs": [],
   "source": [
    "# Read credentials from a JSON file\n",
    "CREDENTIALS_FILE = 'credentials.json'\n",
    "with open(CREDENTIALS_FILE, \"r\") as f:\n",
    "    credentials = json.load(f)\n",
    "    "
   ]
  },
  {
   "cell_type": "markdown",
   "id": "ae4f1ff7",
   "metadata": {},
   "source": [
    "## Establish X API client"
   ]
  },
  {
   "cell_type": "code",
   "execution_count": 5,
   "id": "fe4a2852",
   "metadata": {},
   "outputs": [],
   "source": [
    "client = tweepy.Client(bearer_token=credentials['bearer_token'], \n",
    "                       consumer_key=credentials['consumer_key'], \n",
    "                       consumer_secret=credentials['consumer_secret'],\n",
    "                       access_token=credentials['access_token'], \n",
    "                       access_token_secret=credentials['access_token_secret']\n",
    ")\n"
   ]
  },
  {
   "cell_type": "markdown",
   "id": "e05aed34",
   "metadata": {},
   "source": [
    "## API V2 Test"
   ]
  },
  {
   "cell_type": "code",
   "execution_count": 7,
   "id": "6cd9ef34",
   "metadata": {},
   "outputs": [],
   "source": [
    "# Test the API\n",
    "response = client.search_recent_tweets(\"Tweepy\", max_results=10)\n",
    "    \n",
    "    "
   ]
  },
  {
   "cell_type": "code",
   "execution_count": 8,
   "id": "b8083c7c",
   "metadata": {},
   "outputs": [
    {
     "data": {
      "text/plain": [
       "Response(data=[<Tweet id=1725650040356536496 text='🕚 23:00 on 17 November 2023\\n\\nBarometer 1036.9mb, Falling\\nTemperature 7.2°C, Rising\\nRain today 0.3mm\\nWind 0mph NNE, Gust 2mph\\nHumidity 94%\\nUV 0.0\\nSolarRad 0W/m²\\n\\n#WS3085 @Raspberry_Pi\\n#CumulusMX #tweepy'>, <Tweet id=1725647497278955825 text='This Tweet was Tweeted using Tweepy and Twitter API v2!!'>, <Tweet id=1725637905002148220 text='This Tweet was Tweeted using Tweepy and Twitter API v2!'>, <Tweet id=1725634952627126548 text='🕙 22:00 on 17 November 2023\\n\\nBarometer 1037.8mb, Falling\\nTemperature 7.6°C, Rising\\nRain today 0.3mm\\nWind 1mph N, Gust 7mph\\nHumidity 95%\\nUV 0.0\\nSolarRad 0W/m²\\n\\n#WS3085 @Raspberry_Pi\\n#CumulusMX #tweepy'>, <Tweet id=1725621024362725717 text=\"@idowuilekura @BifolaX Yes, that's what I've been saying.\\n\\nNone of the SM allow data scraping without using their API, and access typically requires payment. I've tried using Tweepy to extract Twitter data but it was blocked.\\n\\nChatGpt is doing the same if you want to use it to analyze data with Python.\">, <Tweet id=1725619841783017607 text='🕘 21:00 on 17 November 2023\\n\\nBarometer 1038.0mb, Falling\\nTemperature 6.3°C, Rising\\nRain today 0.3mm\\nWind 0mph E, Gust 2mph\\nHumidity 99%\\nUV 0.0\\nSolarRad 0W/m²\\n\\n#WS3085 @Raspberry_Pi\\n#CumulusMX #tweepy'>, <Tweet id=1725608429840908377 text='RT @sickIish: Pip Install Tweepy'>, <Tweet id=1725604929740456321 text='@_GhulamMustafa_ @cjsienna55 @Maverick4201889 @axmeeel @Ms_Revisionista @OhRoyalOne @wherepond @PWoodfall @KZanika @whereangelsdare @ASalamDadabhoy @Gruvedawg @Lpooldreamer @crowder_ron @javaidShaikh @SaadAbedine @Shahidmasooddr @wiseguy112 @abasitpak1 @SSEHBAI1 @defencedotpk @PDCMDOfficial @ShNoumi @AWAKEALERT @Gods_Spy @chooselovetoday @CarlaOrtizO @Dragonsoul9Fire @RosenthalEllery @En_kindle @fz_katherine @Trutherbotanyo2 @javiqbal09 @GenAmjadShoaib @ShahidaQureshi5 @SALHACHIMI @amerxmirza @mehdirhasan @AJEnglish @sherkhan1947 @le__bigtimerush @MonaEssSays @dearest_athena @Ali_bin_sufiyan @acmilankashmir @tweepy_mokhdam @Diya_writes @LearningsSn @ShujaABUBehram @Freakzilla7861 #DutyToReport 912 - Ceasefire now, not tomorrow, not in an hour.”\\n\\nBritish Palestinian activist Wafa Shamakakh emphasised on Sky News that the top priority is urging a peaceful resolution.\\n\"Reflect on what these lives meant to the world, questioning why they had… https://t.co/XNzERqbuy7 https://t.co/kU5oKTGcLJ'>, <Tweet id=1725604743194481028 text='🕗 20:00 on 17 November 2023\\n\\nBarometer 1038.6mb, Falling\\nTemperature 5.2°C, Falling\\nRain today 0.3mm\\nWind 1mph ENE, Gust 4mph\\nHumidity 99%\\nUV 0.0\\nSolarRad 0W/m²\\n\\n#WS3085 @Raspberry_Pi\\n#CumulusMX #tweepy'>, <Tweet id=1725604522666741970 text='aOmg shut up DONT PIP INSTALL TWEEPY https://t.co/WIzF8xIHXa'>], includes={}, errors=[], meta={'newest_id': '1725650040356536496', 'oldest_id': '1725604522666741970', 'result_count': 10, 'next_token': 'b26v89c19zqg8o3fr5hfk45he44pa3ys32ezgjvmtbh4t'})"
      ]
     },
     "execution_count": 8,
     "metadata": {},
     "output_type": "execute_result"
    }
   ],
   "source": [
    "response"
   ]
  },
  {
   "cell_type": "markdown",
   "id": "3fbb7950",
   "metadata": {},
   "source": [
    "## Look at Phase 1 and Phase 2 queries"
   ]
  },
  {
   "cell_type": "code",
   "execution_count": 6,
   "id": "02a972b8",
   "metadata": {},
   "outputs": [
    {
     "name": "stdout",
     "output_type": "stream",
     "text": [
      "There are 846 queries.\n"
     ]
    }
   ],
   "source": [
    "# Read the pickled query list\n",
    "QUERY_CACHE_FILE = '../scraper/querylist.pkl'\n",
    "with open(QUERY_CACHE_FILE, \"rb\") as f:\n",
    "    query_cache = pickle.load(f)\n",
    "    \n",
    "print('There are {} queries.'.format(len(query_cache)))\n"
   ]
  },
  {
   "cell_type": "code",
   "execution_count": 7,
   "id": "df659e26",
   "metadata": {},
   "outputs": [
    {
     "name": "stdout",
     "output_type": "stream",
     "text": [
      "The first query in the query cache:\n",
      "('(900-block pandora avenue OR esquimalt OR highlands OR metchosin OR pacheedaht OR saanich OR sooke OR vic west) (aboriginal coalition to end homelessness OR our place society OR victoria native friendship centre OR island health OR united way southern vancouver island OR greater victoria acting together OR victoria foundation OR aechr OR pacifica housing OR umbrella society OR unhoused OR crime) lang:en -is:retweet', '900-block pandora avenue OR esquimalt OR highlands OR metchosin OR pacheedaht OR saanich OR sooke OR vic west')\n"
     ]
    }
   ],
   "source": [
    "print('The first query in the query cache:')\n",
    "print(query_cache[0])\n"
   ]
  },
  {
   "cell_type": "markdown",
   "id": "e693ffd1",
   "metadata": {},
   "source": [
    "## Test the Phase 1 queries"
   ]
  },
  {
   "cell_type": "code",
   "execution_count": 11,
   "id": "f8e1e705",
   "metadata": {},
   "outputs": [
    {
     "name": "stdout",
     "output_type": "stream",
     "text": [
      "TW_Query: (900-block pandora avenue OR esquimalt OR highlands OR metchosin OR pacheedaht OR saanich OR sooke OR vic west) (aboriginal coalition to end homelessness OR our place society OR victoria native friendship centre OR island health OR united way southern vancouver island OR greater victoria acting together OR victoria foundation OR aechr OR pacifica housing OR umbrella society OR unhoused OR crime) lang:en -is:retweet\n",
      "Relevant Region: 900-block pandora avenue OR esquimalt OR highlands OR metchosin OR pacheedaht OR saanich OR sooke OR vic west\n",
      "Query_result: Response(data=[<Tweet id=1725600957419925709 text='Woman sentenced to 4 decades for death of newborn baby https://t.co/NVz6ltUFlM'>, <Tweet id=1725559679504338976 text=\"THE PARTY HOUSE - 'This will appeal to fans of psychological thrillers and crime and mystery readers who are likely to love being immersed in the Scottish Highlands location.' https://t.co/AfLsxmjDVN  #CrimeFiction #Thriller #ThePartyHouse #PartyHouseBook #LinAnderson https://t.co/QHP8JgMQAV\">, <Tweet id=1725212236409360428 text=\"THE PARTY HOUSE - 'This will appeal to fans of psychological thrillers and crime and mystery readers who are likely to love being immersed in the Scottish Highlands location.' https://t.co/ghKyeFoNTl  #CrimeFiction #Thriller #ThePartyHouse #PartyHouseBook #LinAnderson https://t.co/Ykg6DBy2ip\">, <Tweet id=1724864894409769344 text=\"THE PARTY HOUSE - 'This will appeal to fans of psychological thrillers and crime and mystery readers who are likely to love being immersed in the Scottish Highlands location.' https://t.co/i7pJHiDII6  #CrimeFiction #Thriller #ThePartyHouse #PartyHouseBook #LinAnderson https://t.co/pfrHBNlBmj\">, <Tweet id=1724759198976598030 text=\"FOLLOW THE DEAD (Shortlisted for Scottish Crime Book of the Year) 'The scenes in the Highlands are vividly written and the attention to detail is remarkable. This is a gripping read and highly recommended' https://t.co/xirKJf3sQ6  #CrimeFiction #Thriller #LinAnderson #CSI https://t.co/H0J75CtFOM\">, <Tweet id=1724487488255783037 text=\"THE PARTY HOUSE - 'This will appeal to fans of psychological thrillers and crime and mystery readers who are likely to love being immersed in the Scottish Highlands location.' https://t.co/ghKyeFoNTl  #CrimeFiction #Thriller #ThePartyHouse #PartyHouseBook #LinAnderson https://t.co/5K1GNuBn4E\">, <Tweet id=1724404275328283088 text='#GreyBruceOPP require publics assistance locating a stolen trailer from a business on Highway 10 in Grey Highlands.  Its described as 2009 black JDJ APD 2 axle 18ft flat deck trailer, plate #X7755C.  contact the OPP at 1-888-310-1122, Crime Stoppers at 1-800-222-8477 (TIPS). ^kl https://t.co/6AWpO8YoFD'>, <Tweet id=1724118807424168357 text='Mental Health Warrior \\nPTSD First Responder #PTSDFirstResponder #Esquimalt #MentalHealthMatters #SickNotWeak  https://t.co/O4qj4Zubch'>, <Tweet id=1723953864041197751 text=\"THE PARTY HOUSE - 'This will appeal to fans of psychological thrillers and crime and mystery readers who are likely to love being immersed in the Scottish Highlands location.' https://t.co/AfLsxmjDVN  #CrimeFiction #Thriller #ThePartyHouse #PartyHouseBook #LinAnderson https://t.co/ki0ef280r3\">, <Tweet id=1723839096160760124 text='Three juveniles charged with carjacking ride chare driver near Eastern Market https://t.co/1SfX7vUQ7L'>], includes={'users': [<User id=19032473 name=9NEWS Denver username=9NEWS>, <User id=778500400521572357 name=Mystery Tomes username=Mystery_Tomes>, <User id=865196319081672705 name=Dunedin Media username=Dunedin_Media>, <User id=794911747350130689 name=Cannes Vibe username=CannesVibe>, <User id=28642370 name=OPP West Region username=OPP_WR>, <User id=3527157214 name=PTSD First Responder username=AndrewK_1980>, <User id=15391102 name=WUSA9 username=wusa9>]}, errors=[], meta={'newest_id': '1725600957419925709', 'oldest_id': '1723839096160760124', 'result_count': 10, 'next_token': 'b26v89c19zqg8o3fr5hepx7yfi8a8f90ka1h5i08f4f3x'})\n",
      "\n",
      "TW_Query: (900-block pandora avenue OR esquimalt OR highlands OR metchosin OR pacheedaht OR saanich OR sooke OR vic west) (aceh OR pacifica housing OR victoria police department OR makola housing society OR vancouver island mental health society OR greater victoria placemaking network OR tourism vancouver island OR alliance to end homelessness in the capital region OR salvation army OR victoria native friendship centre OR violence OR drugs) lang:en -is:retweet\n",
      "Relevant Region: 900-block pandora avenue OR esquimalt OR highlands OR metchosin OR pacheedaht OR saanich OR sooke OR vic west\n",
      "Query_result: Response(data=[<Tweet id=1725009030853091773 text=\"A domestic violence call in Highlands County, Florida led to a standoff with 43-year-old Sonny Ray Holland Sr., who barricaded himself with his two children. After negotiations failed, the Polk County Sheriff's Office SWAT Team took over. The children were released unharmed, but… https://t.co/okJpSaAOpU https://t.co/yez84wmKoQ\">, <Tweet id=1724657065661256080 text='IOM and partners support communities in the highlands region of Papua New Guinea experiencing violence displacement.@IOMAsiaPacific @USAID \\n\\nClick below to read more:\\nhttps://t.co/ffppwRDxln'>, <Tweet id=1724477222520590627 text=\"@therecount Violence underlies MAGA.\\n\\nWe've seen it over and over.\\n\\nIncluding at an intersection in Highlands Ranch where Marine carrying American flag was accosted.\\n\\nWhen he parodied the MAGA attackers, he got sucker-punched, like he was today by @GeorgeBrauchler \\n\\nhttps://t.co/Ht0y9ggXSK\">, <Tweet id=1724065211135504509 text='like given that so much colonial ethnic violence in ireland &amp; the highlands has been enacted via land seizure and landlordism youd expect gaels to be all over maoism and i can kind of grasp at a few reasons as to why we historically havent been but. hm'>, <Tweet id=1723677919480799734 text='The selective Scottish nationalist (in the sense of what it means to be a \"nation\", not capital N nationalist) use of the highlands to distinguish the Scots from the English is just... so interesting. For every tartan mythologizing, there\\'s the real history of violence.'>], includes={'users': [<User id=1676300193350705152 name=ChroniBuzz username=liv59224>, <User id=4372756339 name=IOM Papua New Guinea username=iompng>, <User id=593100097 name=Craig Silverman username=craigscolorado>, <User id=899172931619745792 name=agenslaga username=littletailbronx>, <User id=1397741775134105605 name=Rosencreutz (alleged youtuber) username=KRosencreutz>], 'tweets': [<Tweet id=1724474603102167311 text='Sen. Markwayne Mullin (R-OK) challenges Teamsters leader Sean O’Brien to a physical fight, standing up midway through a Senate HELP Committee hearing.\\n\\nChair Bernie Sanders (I-VT) repeatedly attempts to break them up: “You’re a United States senator.” https://t.co/E4U624cDsS'>, <Tweet id=1724064865084494082 text='i know there were loyalist maoist groups in the six counties that were composed mostly of ethnically &amp; culturally anglo prods and everything about them is a fucking doozy'>]}, errors=[], meta={'newest_id': '1725009030853091773', 'oldest_id': '1723677919480799734', 'result_count': 5})\n",
      "\n",
      "TW_Query: (900-block pandora avenue OR esquimalt OR highlands OR metchosin OR pacheedaht OR saanich OR sooke OR vic west) (aids vancouver island OR peers victoria resources society OR victoria tenant action group OR mental health recovery partners, south island OR vandu OR hillsidequadra OR town of view royal OR encampment OR sooke homelessness coalition OR peer housing support program OR home OR low-income) lang:en -is:retweet\n",
      "Relevant Region: 900-block pandora avenue OR esquimalt OR highlands OR metchosin OR pacheedaht OR saanich OR sooke OR vic west\n",
      "Query_result: Response(data=[<Tweet id=1725619970430660981 text=\"@speedbvmp So did Kenzie. The Scottish highlands would always be his home. He parks the car and the two bloodhounds comes rushing, howling at the sight of them. Fiona was not far behind. Her blonde hair damp from the rain.\\n\\nShe hugged them. \\n\\n“\\xa0I'm so sorry about your apartment. ”\">, <Tweet id=1725619827572691394 text='Officials say that the suspect denied being pregnant but, texted her ex-boyfriend that was. Police found her baby dead in a bathroom cabinet at her home.  https://t.co/P9XtpJOg4z'>, <Tweet id=1725616843035992441 text='Loader Monteith submits plans for Highlands home next to Stella McCartney proposal https://t.co/KU1eIsPsoq'>, <Tweet id=1725608716215394608 text='A Highlands Ranch woman has been sentenced to 40 years in the Department of Corrections for the death of her newborn, whose body was found in a bag inside a bathroom cabinet at her home. https://t.co/ZKhUazpkUB https://t.co/ftrBgzj2ku'>, <Tweet id=1725604355452149971 text='Great to be home in #Saanich after the better part of the week in #Penticton for Fortify 2023 representing the Min. of Agriculture and Food.\\n\\nI enjoyed engaging with beverage processors of all kinds, as well as a visit to @OkanaganCollege’s Beverage Technology Access Centre! https://t.co/JIxWSy5v72'>, <Tweet id=1725598680579977355 text=\"Did you know?🏴\\U000e0067\\U000e0062\\U000e0073\\U000e0063\\U000e0074\\U000e007f🏞️🏔️🏰🌊❄️\\n\\nThe Scottish Highlands is a few hours from Edinburgh, and Stretching around Skye, around the North Coast 500 route up to the village of John O' Groats, the region is also home to the tallest mountain in the Uk, Ben Nevis https://t.co/iwvlDToMhX\">, <Tweet id=1725576815798833228 text='Our dining rooms were made for making happy holiday party memories. 🥰 Claim your home at Madison Highlands by calling (254) 637-0242! https://t.co/kWPKaoQ3K5'>, <Tweet id=1725557999329050744 text='@METROFMSA @ChivasRegalSA Strathisla Distillery Home of Chivas at Scottish Highlands, Scotland.\\n#IRiseWeRise \\n#ChivasRegalSA @METROFMSA x @ChivasRegalSA 🥃\\U0001faf6'>, <Tweet id=1725553114562855352 text='Cracking up at video of me after *3 hours* of refereeing high school basketball earlier this week - after the Pleasanton/Highlands Varsity game. My feet got super sore on the drive home. Felt better after showering. 🤦🏽\\u200d♂️😂😂 https://t.co/4kHTNkQNwE'>, <Tweet id=1725541650515083385 text='GAMEDAY! ROUND 2!\\n\\nTHE CHASE FOR 6 CONTINUES...\\n\\n🏈  vs. Lovejoy Leopards\\n🏟  Wildcat-Ram Stadium (at Lake Highlands HS)\\n🕰  7:30 pm\\n🎟  https://t.co/8nNdpdSkj4\\n📻  106.9 The Ranch\\n📺  NFHS Network\\n\\nENNIS IS THE HOME TEAM!\\nE-TOWN, STAND UP! https://t.co/ex2kKu5ikF'>], includes={'users': [<User id=1536358235611054080 name=ᅠ ‍ᅠ KENZIE username=omensanguis>, <User id=16296575 name=KRDO13 username=KRDO_13>, <User id=24706309 name=Architects’ Journal username=ArchitectsJrnal>, <User id=56878013 name=Channel 2 KWGN username=channel2kwgn>, <User id=1019792528705388544 name=Zac de Vries - Saanich Councillor & CRD Director username=zacdevries>, <User id=1704783658018639872 name=Traveller Forever username=TRAVEL364DAYS>, <User id=1493318418753146881 name=Madison Highlands username=MadisonHighlan>, <User id=1716768290926628864 name=tuukasims username=tuukasims>, <User id=1155574212553297920 name=Mike Jimenez username=MJAcquiredTaste>, <User id=295869489 name=EnnisFootball username=EnnisFootball>], 'tweets': [<Tweet id=1725530177566896441 text='@omensanguis “Then I have to make the most of the time you are here.” He places his hand on top of Kenzie. It felt just like the other day that he traveled here for the first time. \\n\\n“I love this castle.” It felt peaceful away from everything. He was happy to see it again.'>, <Tweet id=1720017908787806235 text='Where is the Chivas home? First person to get it correct wins R1000 and a 12YO bottle :) Ts &amp; Cs apply.\\n\\n#IRiseWeRise #ChivasRegalSA @ChivasRegalSA https://t.co/xs31WTcQWq'>]}, errors=[], meta={'newest_id': '1725619970430660981', 'oldest_id': '1725541650515083385', 'result_count': 10, 'next_token': 'b26v89c19zqg8o3fr5hfk21y9y0mdd9w0b6xhvaryh2m5'})\n",
      "\n",
      "TW_Query: (900-block pandora avenue OR esquimalt OR highlands OR metchosin OR pacheedaht OR saanich OR sooke OR vic west) (avi OR saanich police community engagement division OR vtag OR mustard seed OR victoria disability resource centre OR home for hope OR township of esquimalt OR emergency housing OR sooke transition house society OR people with lived experience OR affordable housing OR narcotics) lang:en -is:retweet\n",
      "Relevant Region: 900-block pandora avenue OR esquimalt OR highlands OR metchosin OR pacheedaht OR saanich OR sooke OR vic west\n"
     ]
    },
    {
     "name": "stdout",
     "output_type": "stream",
     "text": [
      "Query_result: Response(data=[<Tweet id=1725650168580600117 text='#NewsRelease: An affordable housing development for Indigenous people has opened near Central Saanich. It has 28 homes and is located on the Tsawout First Nation land.\\n\\nLearn more: https://t.co/djrIVsZJqA\\n\\n#AffordableHousing #Saanich #Indigenous https://t.co/yvR44eqRMS'>, <Tweet id=1725622839888450017 text='Very excited to see this project moving forward. A big thank you to all the #Saanich neighbours who attended one of the open houses this week! \\n\\nPlease get in touch if you have additional thoughts to share! \\n\\nhttps://t.co/WUWaNQITBL'>, <Tweet id=1725230028781392123 text='\"The Nellie McClung library branch would double in size, occupying two storeys, and have 10 storeys of lower-cost housing on top of it, under a proposal being pitched by the District of Saanich.\"\\nhttps://t.co/50csxSVQGC'>, <Tweet id=1724843757085012317 text='#Saanich - Saanich looks to expand Nellie McClung library and put 10 storeys of affordable housing on top https://t.co/11GzrYlipO'>, <Tweet id=1724829880028922217 text='Skilled Labourer (Labourer II) - Township of Esquimalt (Esquimalt, BC) https://t.co/nO54I8i5V6'>, <Tweet id=1724820072026288231 text='#nhshighland #vacancy\\n\\nAn exciting opportunity to come and work in the far North Highlands of Scotland.\\xa0 Caithness is a beautiful county offering excellent lifestyle choices, with affordable housing and newly built schools.\\n\\nApply online via: https://t.co/yQUENz3BeH https://t.co/KIsmqieyCZ'>, <Tweet id=1724781849673683305 text='Saanich looks to expand Nellie McClung library and put 10 storeys of affordable housing on top https://t.co/9ptEBS0kHd'>, <Tweet id=1724451206964088847 text='Everyone in @saanich @EsquimaltBC and @SookeCa, we can make this happen together. We can bring home common sense, clean up the drug problem in our streets and bring back affordable housing for everyone. \\n\\n#cdnpoli #bcpoli #yyj https://t.co/KMn6LPOPu5'>, <Tweet id=1723153944539775051 text='@saanich Your mayor is like Alto: focused on providing expensive housing for people coming from somewhere else and not affordable housing for those that are here'>, <Tweet id=1723124812980408442 text='@saanich Are Saanich employees quitting because they can\\'t afford to live in Saanich 🤔 or is it because they\\'re sick and tired of their tax dollars being used to build half million dollar \"\"affordable\"\" housing units which go up for sale the very next year for a million 🤦\\u200d♂️'>], includes={'users': [<User id=106552575 name=BC Housing username=BC_Housing>, <User id=1317549655 name=Dr. Teale Phelps Bondaroff username=TealePB>, <User id=776496143932887040 name=South Island Prosperity Partnership username=SIProsperity>, <User id=216899226 name=CivicInfo News Feed username=BCHeadlines>, <User id=23827200 name=CivicJobs.ca username=CivicJobs>, <User id=1385228141703073795 name=NHS Highland Recruitment username=NHSHJobs>, <User id=16182069 name=Times Colonist username=timescolonist>, <User id=63786887 name=David Grant username=DavidGrant_ESS>, <User id=1588773286955012096 name=Charlie Rose username=Charlie12635375>, <User id=1590896540608258048 name=Oicub 🍁 username=OicubBucio>], 'tweets': [<Tweet id=1723022899425005738 text=\"The Province recently provided the District of Saanich with mandated housing targets, including tripling the volume of permits over the next five years. \\n\\nRead Mayor Dean Murdock's Op/Ed to understand the District's plan for building more houses quickly.\\n\\nhttps://t.co/yikscSs4fc https://t.co/PoaCTm0p05\">, <Tweet id=1723113394771829240 text='Saanich is hiring for lots of positions, read on for details 🧐\\n\\nWe provide a welcoming environment and maintain a healthy workplace that consistently attracts top-quality people. \\n\\nTo learn more about available positions, and to apply, please visit us at: https://t.co/GYvI3nfgAv https://t.co/Et7vWMicVM'>]}, errors=[], meta={'newest_id': '1725650168580600117', 'oldest_id': '1723124812980408442', 'result_count': 10})\n",
      "\n",
      "TW_Query: (900-block pandora avenue OR esquimalt OR highlands OR metchosin OR pacheedaht OR saanich OR sooke OR vic west) (anawim house OR safer victoria OR victoria women's transition house OR north park neighbourhood association OR victoria family court and youth justice committee OR i love first peoples victoria OR university of victoria OR subsidized housing OR the cridge centre for the family OR point in time OR drugs OR overdose) lang:en -is:retweet\n",
      "Relevant Region: 900-block pandora avenue OR esquimalt OR highlands OR metchosin OR pacheedaht OR saanich OR sooke OR vic west\n",
      "Query_result: Response(data=[<Tweet id=1724639256575136000 text='1/2 Overflow crowd at the public info session tonight for the Nellie McClung library replacement plan. They will demo the existing library &amp; build a new one at Cedar Hill &amp; McKenzie with 11 storeys of market/subsidized rental housing above it.\\n#saanich https://t.co/DRKsPsHA44'>, <Tweet id=1723230418881724478 text=\"@Prosper_Gameday Half in garbage time, and that Lovejoy blowout looks better with each week.  Point is - if your defense can't stop Lake Highlands next week - and the win is because your offense goes 60 on them, that's a problem for NC - because they do have a defense that LH doesn't.\">], includes={'users': [<User id=40591319 name=Robert Randall 🇨🇦🇺🇦 username=rwrandall>, <User id=547994064 name=Matt Diggs username=ProfessorDiggs>], 'tweets': [<Tweet id=1723229796715381142 text='@ProfessorDiggs I’m not saying we’re definitely beating NC, but it’s very very possible for prosper to win. I think NC is good, but overrated. Blowing out cupcake teams. They managed to let Keller score 26 on them…'>]}, errors=[], meta={'newest_id': '1724639256575136000', 'oldest_id': '1723230418881724478', 'result_count': 2})\n",
      "\n"
     ]
    }
   ],
   "source": [
    "START_TIME = None\n",
    "END_TIME = None\n",
    "MAX_TWEETS = 10\n",
    "\n",
    "\n",
    "# Test the main scraper query function to see if it's working\n",
    "for q in query_cache[:5]:\n",
    "\n",
    "    TW_QUERY = q[0].replace(\"&\", \"\")\n",
    "    search_query = TW_QUERY.replace(\" and \", ' \"and\" ')\n",
    "    RELEVANT_REGION = q[1]\n",
    "    \n",
    "    print('TW_Query: {}'.format(TW_QUERY))\n",
    "    print('Relevant Region: {}'.format(RELEVANT_REGION))\n",
    "    \n",
    "    tweets = client.search_recent_tweets(\n",
    "        query=search_query,\n",
    "        start_time=START_TIME,\n",
    "        end_time=END_TIME,\n",
    "        tweet_fields=[\n",
    "            \"context_annotations\",\n",
    "            \"public_metrics\",\n",
    "            \"created_at\",\n",
    "            \"text\",\n",
    "            \"source\",\n",
    "            \"geo\",\n",
    "        ],\n",
    "        user_fields=[\n",
    "            \"name\",\n",
    "            \"username\",\n",
    "            \"location\",\n",
    "            \"verified\",\n",
    "            \"description\",\n",
    "            \"public_metrics\",\n",
    "        ],\n",
    "        max_results=MAX_TWEETS,\n",
    "        place_fields=[\"country\", \"geo\", \"name\", \"place_type\"],\n",
    "        expansions=[\"author_id\", \"geo.place_id\", \"referenced_tweets.id\"],\n",
    "    )\n",
    "\n",
    "    print('Query_result: {}'.format(tweets))\n",
    "    print()\n"
   ]
  },
  {
   "cell_type": "code",
   "execution_count": null,
   "id": "05d655eb",
   "metadata": {},
   "outputs": [],
   "source": []
  },
  {
   "cell_type": "code",
   "execution_count": null,
   "id": "3243e4b1",
   "metadata": {},
   "outputs": [],
   "source": []
  }
 ],
 "metadata": {
  "kernelspec": {
   "display_name": "Python 3 (ipykernel)",
   "language": "python",
   "name": "python3"
  },
  "language_info": {
   "codemirror_mode": {
    "name": "ipython",
    "version": 3
   },
   "file_extension": ".py",
   "mimetype": "text/x-python",
   "name": "python",
   "nbconvert_exporter": "python",
   "pygments_lexer": "ipython3",
   "version": "3.10.13"
  }
 },
 "nbformat": 4,
 "nbformat_minor": 5
}
